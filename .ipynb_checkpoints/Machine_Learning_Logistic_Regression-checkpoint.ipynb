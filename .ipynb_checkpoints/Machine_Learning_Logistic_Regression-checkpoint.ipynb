{
 "cells": [
  {
   "cell_type": "code",
   "execution_count": null,
   "metadata": {},
   "outputs": [],
   "source": [
    "#dependencies\n",
    "%matplotlib inline\n",
    "import matplotlib.pyplot as plt\n",
    "import pandas as pd\n",
    "import os"
   ]
  },
  {
   "cell_type": "code",
   "execution_count": null,
   "metadata": {},
   "outputs": [],
   "source": [
    "#connect to database for actual queries\n",
    "#dependency\n",
    "from sqlalchemy import create_engine\n",
    "\n",
    "#set up post gress string\n",
    "database_path = \"healthcare-fraud-db.cakair5uyevn.us-east-1.rds.amazonaws.com\"\n",
    "port = '5432'\n",
    "user = 'root'\n",
    "password = 'rootroot'\n",
    "database_name = 'healthcare-fraud-db'\n",
    "\n",
    "#postgres string\n",
    "pgString = ('postgresql://{user}:{password}@{ipaddress}:{port}/{dbname}'.\\\n",
    "           format(user = user,\\\n",
    "                 password = password,\\\n",
    "                 ipaddress = database_path,\\\n",
    "                 port = port,\\\n",
    "                 dbname = database_name))\n",
    "\n",
    "#create engine for connection\n",
    "engine = create_engine(pgString)"
   ]
  },
  {
   "cell_type": "code",
   "execution_count": null,
   "metadata": {},
   "outputs": [],
   "source": [
    "#lets make sure this worked\n",
    "data =  engine.execute(\"SELECT * FROM final_table\")\n",
    "#convert data into a data frame to be able to call and do machine learning\n",
    "df = pd.read_sql(\"SELECT * FROM final_table\", engine)\n",
    "df.head()"
   ]
  },
  {
   "cell_type": "code",
   "execution_count": null,
   "metadata": {},
   "outputs": [],
   "source": [
    "#write data frame to csv for easy access to make visuals\n",
    "df.to_csv(\"Resources/finalTable.csv\")"
   ]
  }
 ],
 "metadata": {
  "kernelspec": {
   "display_name": "Python 3",
   "language": "python",
   "name": "python3"
  },
  "language_info": {
   "codemirror_mode": {
    "name": "ipython",
    "version": 3
   },
   "file_extension": ".py",
   "mimetype": "text/x-python",
   "name": "python",
   "nbconvert_exporter": "python",
   "pygments_lexer": "ipython3",
   "version": "3.7.4"
  }
 },
 "nbformat": 4,
 "nbformat_minor": 2
}
