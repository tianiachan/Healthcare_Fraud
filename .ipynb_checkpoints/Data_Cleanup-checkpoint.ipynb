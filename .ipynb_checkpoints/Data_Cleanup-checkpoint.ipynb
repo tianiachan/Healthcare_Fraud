{
  "nbformat": 4,
  "nbformat_minor": 0,
  "metadata": {
    "colab": {
      "name": "Data_Cleanup.ipynb",
      "provenance": [],
      "collapsed_sections": []
    },
    "kernelspec": {
      "name": "python3",
      "display_name": "Python 3"
    }
  },
  "cells": [
    {
      "cell_type": "code",
      "metadata": {
        "id": "bEswlOnnWWVC",
        "colab_type": "code",
        "colab": {}
      },
      "source": [
        "#ran with google colab\n",
        "# Install Java, Spark, and Findspark\n",
        "!apt-get install openjdk-8-jdk-headless -qq > /dev/null\n",
        "!wget -q http://www-us.apache.org/dist/spark/spark-2.4.5/spark-2.4.5-bin-hadoop2.7.tgz\n",
        "!tar xf spark-2.4.5-bin-hadoop2.7.tgz\n",
        "!pip install -q findspark\n"
      ],
      "execution_count": 0,
      "outputs": []
    },
    {
      "cell_type": "code",
      "metadata": {
        "id": "POGmlr9jmnUh",
        "colab_type": "code",
        "colab": {}
      },
      "source": [
        "# Set Environment Variables\n",
        "import os\n",
        "os.environ[\"JAVA_HOME\"] = \"/usr/lib/jvm/java-8-openjdk-amd64\"\n",
        "os.environ[\"SPARK_HOME\"] = \"/content/spark-2.4.5-bin-hadoop2.7\"\n",
        "#import dependencies for spark\n",
        "from pyspark.sql import SparkSession\n",
        "from pyspark import SparkFiles\n",
        "from pyspark.sql.types import DoubleType\n",
        "# Start a SparkSession\n",
        "import findspark\n",
        "findspark.init()"
      ],
      "execution_count": 0,
      "outputs": []
    },
    {
      "cell_type": "code",
      "metadata": {
        "id": "3sOkjd39Wyrp",
        "colab_type": "code",
        "colab": {}
      },
      "source": [
        "from pyspark.sql import SparkSession\n",
        "spark = SparkSession.builder.appName(\"healthcare_fraud\").config(\"spark.driver.extraClassPath\",\"/content/postgresql-42.2.9.jar\").getOrCreate()"
      ],
      "execution_count": 0,
      "outputs": []
    },
    {
      "cell_type": "code",
      "metadata": {
        "id": "_WOxtL6PXCGC",
        "colab_type": "code",
        "colab": {}
      },
      "source": [
        "# Load in user_data.csv from S3 into a DataFrame\n",
        "url = \"https://healthcare-fraud-project.s3.amazonaws.com/Opiod_drug_names.csv\"\n",
        "spark.sparkContext.addFile(url)\n",
        "opiodNames = spark.read.option('header', 'true').csv(SparkFiles.get(\"Opiod_drug_names.csv\"), inferSchema=True, sep=',', timestampFormat=\"mm/dd/yy\")\n"
      ],
      "execution_count": 0,
      "outputs": []
    },
    {
      "cell_type": "code",
      "metadata": {
        "id": "DJFFRSvnYOJ8",
        "colab_type": "code",
        "colab": {}
      },
      "source": [
        "opiodNames.count()\n",
        "#dependency to save CSVs after cleaned onto drive so do not need to download again\n",
        "from google.colab import files\n",
        "#save as a csv so we never have to do this again!\n",
        "opiodNames.toPandas().to_csv(\"opiodNames.csv\")"
      ],
      "execution_count": 0,
      "outputs": []
    },
    {
      "cell_type": "code",
      "metadata": {
        "id": "1G8UgjQwabsX",
        "colab_type": "code",
        "colab": {}
      },
      "source": [
        "# Load in user_data.csv from S3 into a DataFrame\n",
        "url = \"https://healthcare-fraud-project.s3.amazonaws.com/OP_DTL_GNRL_PGYR2016_P01172020.csv\"\n",
        "spark.sparkContext.addFile(url)\n",
        "df = spark.read.option('header', 'true').csv(SparkFiles.get(\"OP_DTL_GNRL_PGYR2016_P01172020.csv\"), inferSchema=True, sep=',', timestampFormat=\"mm/dd/yy\")"
      ],
      "execution_count": 0,
      "outputs": []
    },
    {
      "cell_type": "code",
      "metadata": {
        "id": "0ztTpkrlbrPr",
        "colab_type": "code",
        "colab": {}
      },
      "source": [
        "#drop unnecessary columns\n",
        "col_dropped = ['Teaching_Hospital_CCN','Teaching_Hospital_ID','Teaching_Hospital_Name','Physician_Middle_Name','Physician_Name_Suffix','Recipient_Province','Recipient_Postal_Code','Recipient_Country','Physician_License_State_code2','Physician_License_State_code3','Physician_License_State_code4','Physician_License_State_code5','Submitting_Applicable_Manufacturer_or_Applicable_GPO_Name','Applicable_Manufacturer_or_Applicable_GPO_Making_Payment_ID','Applicable_Manufacturer_or_Applicable_GPO_Making_Payment_Name','Applicable_Manufacturer_or_Applicable_GPO_Making_Payment_State','Applicable_Manufacturer_or_Applicable_GPO_Making_Payment_Country','Number_of_Payments_Included_in_Total_Amount','Date_of_Payment','Form_of_Payment_or_Transfer_of_Value','Nature_of_Payment_or_Transfer_of_Value','City_of_Travel','State_of_Travel','Country_of_Travel','Name_of_Third_Party_Entity_Receiving_Payment_or_Transfer_of_Value','Charity_Indicator','Third_Party_Equals_Covered_Recipient_Indicator','Contextual_Information','Associated_Drug_or_Biological_NDC_1','Associated_Drug_or_Biological_NDC_2','Covered_or_Noncovered_Indicator_3','Indicate_Drug_or_Biological_or_Device_or_Medical_Supply_3','Product_Category_or_Therapeutic_Area_3','Name_of_Drug_or_Biological_or_Device_or_Medical_Supply_3','Associated_Drug_or_Biological_NDC_3','Covered_or_Noncovered_Indicator_4','Indicate_Drug_or_Biological_or_Device_or_Medical_Supply_4','Product_Category_or_Therapeutic_Area_4','Name_of_Drug_or_Biological_or_Device_or_Medical_Supply_4','Associated_Drug_or_Biological_NDC_4','Covered_or_Noncovered_Indicator_5','Indicate_Drug_or_Biological_or_Device_or_Medical_Supply_5','Product_Category_or_Therapeutic_Area_5','Name_of_Drug_or_Biological_or_Device_or_Medical_Supply_5','Associated_Drug_or_Biological_NDC_5']\n",
        "df_smaller = df.select([column for column in df.columns if column not in col_dropped])"
      ],
      "execution_count": 0,
      "outputs": []
    },
    {
      "cell_type": "code",
      "metadata": {
        "id": "NXOGlnZ7nU_d",
        "colab_type": "code",
        "colab": {}
      },
      "source": [
        "#change payment column to double\n",
        "df_smaller = df_smaller.withColumn(\"Total_Amount_of_Payment_USDollars\",df_smaller[\"Total_Amount_of_Payment_USDollars\"].cast(DoubleType()))\n",
        "#make table smaler for only necessary information\n",
        "df_fin = df_smaller.select([\"Physician_First_Name\",'Physician_Last_Name','Recipient_City','Recipient_State','Total_Amount_of_Payment_USDollars'])\n",
        "df_fin = df_fin.groupby([\"Physician_First_Name\",'Physician_Last_Name','Recipient_City','Recipient_State']).sum('Total_Amount_of_Payment_USDollars')"
      ],
      "execution_count": 0,
      "outputs": []
    },
    {
      "cell_type": "code",
      "metadata": {
        "id": "9lnioJnnxC65",
        "colab_type": "code",
        "colab": {}
      },
      "source": [
        "#rename columns for easier readability\n",
        "df_fin_renamed = df_fin.withColumnRenamed(\"sum(Total_Amount_of_Payment_USDollars)\" , \"total_payment\")\n",
        "df_fin_renamed = df_fin_renamed.withColumnRenamed(\"Physician_First_Name\" , \"physician_first_name\")\n",
        "df_fin_renamed = df_fin_renamed.withColumnRenamed(\"Physician_Last_Name\" , \"physician_last_name\")\n",
        "df_fin_renamed = df_fin_renamed.withColumnRenamed(\"Physician_Last_Name\" , \"physician_last_name\")\n",
        "df_fin_renamed = df_fin_renamed.withColumnRenamed(\"Recipient_City\" , \"recipient_city\")\n",
        "df_fin_renamed = df_fin_renamed.withColumnRenamed(\"Recipient_State\" , \"recipient_state\")"
      ],
      "execution_count": 0,
      "outputs": []
    },
    {
      "cell_type": "code",
      "metadata": {
        "id": "jFSpvGmds-oz",
        "colab_type": "code",
        "colab": {}
      },
      "source": [
        "#check what types to be able to create table in postgress\n",
        "df_fin_renamed.dtypes\n",
        "#save as a csv so we never have to do this again!\n",
        "df_fin_renamed.toPandas().to_csv(\"physicianInfo.csv\")"
      ],
      "execution_count": 0,
      "outputs": []
    },
    {
      "cell_type": "code",
      "metadata": {
        "id": "2dnWBtQ5C-8u",
        "colab_type": "code",
        "colab": {}
      },
      "source": [
        "#add to postgress for processing\n",
        "mode = \"append\"\n",
        "jdbc_url=\"jdbc:postgresql://healthcare-fraud-db.cakair5uyevn.us-east-1.rds.amazonaws.com:5432/healthcare-fraud-db\"\n",
        "config = {\"user\":\"root\", \n",
        "          \"password\": \"rootroot\", \n",
        "          \"driver\":\"org.postgresql.Driver\"}"
      ],
      "execution_count": 0,
      "outputs": []
    },
    {
      "cell_type": "code",
      "metadata": {
        "id": "YZx4hwyyimAp",
        "colab_type": "code",
        "colab": {}
      },
      "source": [
        "df_fin_renamed.write.jdbc(url=jdbc_url, table='provider_payment_info', mode=mode, properties=config)\n",
        "\n"
      ],
      "execution_count": 0,
      "outputs": []
    },
    {
      "cell_type": "code",
      "metadata": {
        "id": "pxIgVohNkgXp",
        "colab_type": "code",
        "colab": {}
      },
      "source": [
        "#get exclusion list\n",
        "url = \"https://healthcare-fraud-project.s3.amazonaws.com/2004EXCL.csv\"\n",
        "spark.sparkContext.addFile(url)\n",
        "exclusionList = spark.read.option('header', 'true').csv(SparkFiles.get(\"2004EXCL.csv\"), inferSchema=True, sep=',', timestampFormat=\"mm/dd/yy\")"
      ],
      "execution_count": 0,
      "outputs": []
    },
    {
      "cell_type": "code",
      "metadata": {
        "id": "gW__3e8vl7Zt",
        "colab_type": "code",
        "outputId": "fbaa813f-75c1-4732-ecf3-da13761bc867",
        "colab": {
          "base_uri": "https://localhost:8080/",
          "height": 459
        }
      },
      "source": [
        "#clean up with only the columns that we want\n",
        "excludeCol = ['LASTNAME','FIRSTNAME','BUSNAME','SPECIALTY','NPI','CITY','STATE','ZIP']\n",
        "exclusionListSmall = exclusionList.select([column for column in exclusionList.columns if column in excludeCol])\n",
        "exclusionListSmall.show()"
      ],
      "execution_count": 14,
      "outputs": [
        {
          "output_type": "stream",
          "text": [
            "+---------+-----------+--------------------+--------------------+----------+---------------+-----+-----+\n",
            "| LASTNAME|  FIRSTNAME|             BUSNAME|           SPECIALTY|       NPI|           CITY|STATE|  ZIP|\n",
            "+---------+-----------+--------------------+--------------------+----------+---------------+-----+-----+\n",
            "|     null|       null|     ANATOMY RX, LLC|            PHARMACY|1356713226|    LOS ANGELES|   CA|90025|\n",
            "|     null|       null|CANARSIE A W A R ...|SUBSTANCE ABUSE REHA|1497971741|       BROOKLYN|   NY|11236|\n",
            "|     null|       null|DAY AND NIGHT BEH...|   COUNSELING CENTER|1619426715|NORTH LAS VEGAS|   NV|89081|\n",
            "|     null|       null|EDWARDO M YAMBO M...|    GENERAL PRACTICE|1194829754|      DEER PARK|   NY|11729|\n",
            "|     null|       null|LIFESTREAM HEALTH...|  HOME HEALTH AGENCY|1679844161|     STURBRIDGE|   MA| 1566|\n",
            "|   ABBASI|       MAAZ|                null|   INTERNAL MEDICINE|1679754725|  MISSOURI CITY|   TX|77459|\n",
            "|    ADAME|    MATTHEW|                null|   NURSE/NURSES AIDE|         0|      ARLINGTON|   TX|76018|\n",
            "|   ADKINS|    CRYSTAL|                null|   NURSE/NURSES AIDE|         0|          TAMPA|   FL|33637|\n",
            "|    AHMED|      DALIA|                null|PERSONAL CARE PROVID|         0|    SAINT LOUIS|   MO|63125|\n",
            "|    ANEKE|        JOY|                null|              CLINIC|         0|          BRYAN|   TX|77805|\n",
            "|ARMSTRONG|CHRISTOPHER|                null| PHYSICIAN ASSISTANT|1740349505|        OAKDALE|   LA|71483|\n",
            "|  ARONSON|       MARY|                null|          PHARMACIST|1548351125|       LONGMONT|   CO|80501|\n",
            "|    AYALA|       IRIS|                null|             GYN/OBS|1609109834|       CLERMONT|   FL|34715|\n",
            "|   BAILEY|     HOLLIS|                null|NO KNOWN AFFILIATION|         0|      KIMBOLTON|   OH|43749|\n",
            "|     BARR|        JOE|                null| INTER CARE FACILITY|         0|         OXFORD|   MS|38655|\n",
            "|   BASILE|     ANDREW|                null|  EMERGENCY MEDICINE|1346297348|  POMPANO BEACH|   FL|33062|\n",
            "| BAUMBLIT|      RIMMA|                null|SUBSTANCE ABUSE REHA|         0|       BROOKLYN|   NY|11235|\n",
            "| BAUMBLIT|       YURY|                null|SUBSTANCE ABUSE REHA|         0|       BROOKLYN|   NY|11229|\n",
            "|     BECK|  STEPHANIE|                null|           COUNSELOR|1457511487|       LEWISTON|   ME| 4240|\n",
            "|BENS VEGA|    EDUARDO|                null|              CLINIC|         0|    PHILIPSBURG|   PA|16866|\n",
            "+---------+-----------+--------------------+--------------------+----------+---------------+-----+-----+\n",
            "only showing top 20 rows\n",
            "\n"
          ],
          "name": "stdout"
        }
      ]
    },
    {
      "cell_type": "code",
      "metadata": {
        "id": "JYJYVPX7Nji-",
        "colab_type": "code",
        "outputId": "e0b8676b-c4e1-44da-82a4-1bc25a616279",
        "colab": {
          "base_uri": "https://localhost:8080/",
          "height": 459
        }
      },
      "source": [
        "#rename columns to make easier to read\n",
        "exclusionListSmall = exclusionListSmall.withColumnRenamed(\"LASTNAME\" , \"Last Name\").withColumnRenamed(\"FIRSTNAME\" , \"First Name\").withColumnRenamed(\"BUSNAME\" , \"Business Name\").withColumnRenamed(\"SPECIALTY\" , \"Specialty\").withColumnRenamed(\"CITY\" , \"City\").withColumnRenamed(\"STATE\" , \"State\")\n",
        "exclusionListSmall.show()"
      ],
      "execution_count": 15,
      "outputs": [
        {
          "output_type": "stream",
          "text": [
            "+---------+-----------+--------------------+--------------------+----------+---------------+-----+-----+\n",
            "|Last Name| First Name|       Business Name|           Specialty|       NPI|           City|State|  ZIP|\n",
            "+---------+-----------+--------------------+--------------------+----------+---------------+-----+-----+\n",
            "|     null|       null|     ANATOMY RX, LLC|            PHARMACY|1356713226|    LOS ANGELES|   CA|90025|\n",
            "|     null|       null|CANARSIE A W A R ...|SUBSTANCE ABUSE REHA|1497971741|       BROOKLYN|   NY|11236|\n",
            "|     null|       null|DAY AND NIGHT BEH...|   COUNSELING CENTER|1619426715|NORTH LAS VEGAS|   NV|89081|\n",
            "|     null|       null|EDWARDO M YAMBO M...|    GENERAL PRACTICE|1194829754|      DEER PARK|   NY|11729|\n",
            "|     null|       null|LIFESTREAM HEALTH...|  HOME HEALTH AGENCY|1679844161|     STURBRIDGE|   MA| 1566|\n",
            "|   ABBASI|       MAAZ|                null|   INTERNAL MEDICINE|1679754725|  MISSOURI CITY|   TX|77459|\n",
            "|    ADAME|    MATTHEW|                null|   NURSE/NURSES AIDE|         0|      ARLINGTON|   TX|76018|\n",
            "|   ADKINS|    CRYSTAL|                null|   NURSE/NURSES AIDE|         0|          TAMPA|   FL|33637|\n",
            "|    AHMED|      DALIA|                null|PERSONAL CARE PROVID|         0|    SAINT LOUIS|   MO|63125|\n",
            "|    ANEKE|        JOY|                null|              CLINIC|         0|          BRYAN|   TX|77805|\n",
            "|ARMSTRONG|CHRISTOPHER|                null| PHYSICIAN ASSISTANT|1740349505|        OAKDALE|   LA|71483|\n",
            "|  ARONSON|       MARY|                null|          PHARMACIST|1548351125|       LONGMONT|   CO|80501|\n",
            "|    AYALA|       IRIS|                null|             GYN/OBS|1609109834|       CLERMONT|   FL|34715|\n",
            "|   BAILEY|     HOLLIS|                null|NO KNOWN AFFILIATION|         0|      KIMBOLTON|   OH|43749|\n",
            "|     BARR|        JOE|                null| INTER CARE FACILITY|         0|         OXFORD|   MS|38655|\n",
            "|   BASILE|     ANDREW|                null|  EMERGENCY MEDICINE|1346297348|  POMPANO BEACH|   FL|33062|\n",
            "| BAUMBLIT|      RIMMA|                null|SUBSTANCE ABUSE REHA|         0|       BROOKLYN|   NY|11235|\n",
            "| BAUMBLIT|       YURY|                null|SUBSTANCE ABUSE REHA|         0|       BROOKLYN|   NY|11229|\n",
            "|     BECK|  STEPHANIE|                null|           COUNSELOR|1457511487|       LEWISTON|   ME| 4240|\n",
            "|BENS VEGA|    EDUARDO|                null|              CLINIC|         0|    PHILIPSBURG|   PA|16866|\n",
            "+---------+-----------+--------------------+--------------------+----------+---------------+-----+-----+\n",
            "only showing top 20 rows\n",
            "\n"
          ],
          "name": "stdout"
        }
      ]
    },
    {
      "cell_type": "code",
      "metadata": {
        "id": "EQ5Pg_v3aohp",
        "colab_type": "code",
        "colab": {}
      },
      "source": [
        "#save as a csv so we never have to do this again!\n",
        "exclusionListSmall.toPandas().to_csv(\"exclusionlist.csv\")"
      ],
      "execution_count": 0,
      "outputs": []
    },
    {
      "cell_type": "code",
      "metadata": {
        "id": "o8z4toJPl83V",
        "colab_type": "code",
        "colab": {}
      },
      "source": [
        "#drug provider CSV\n",
        "url = \"https://healthcare-fraud-project.s3.amazonaws.com/Medicare_Provider_Utilization_and_Payment_Data__2016_Part_D_Prescriber.csv\"\n",
        "spark.sparkContext.addFile(url)\n",
        "drugProvider = spark.read.option('header', 'true').csv(SparkFiles.get(\"Medicare_Provider_Utilization_and_Payment_Data__2016_Part_D_Prescriber.csv\"), inferSchema=True, sep=',', timestampFormat=\"mm/dd/yy\")"
      ],
      "execution_count": 0,
      "outputs": []
    },
    {
      "cell_type": "code",
      "metadata": {
        "id": "AwhQQbWcmVdw",
        "colab_type": "code",
        "outputId": "8481df26-19f3-4a55-fc6d-2fa39a03cd11",
        "colab": {
          "base_uri": "https://localhost:8080/",
          "height": 479
        }
      },
      "source": [
        "#drug provider data frame\n",
        "drugProvider.columns\n",
        "#clean up with only the columns that we want\n",
        "drugColumns = ['npi','nppes_provider_last_org_name','nppes_provider_first_name','nppes_provider_city','nppes_provider_state','drug_name','generic_name','total_claim_count','total_drug_cost']\n",
        "drugProviderSmall = drugProvider.select([column for column in drugProvider.columns if column in drugColumns])"
      ],
      "execution_count": 0,
      "outputs": [
        {
          "output_type": "stream",
          "text": [
            "+----------+----------------------------+-------------------------+-------------------+--------------------+--------------------+--------------------+-----------------+---------------+\n",
            "|       npi|nppes_provider_last_org_name|nppes_provider_first_name|nppes_provider_city|nppes_provider_state|           drug_name|        generic_name|total_claim_count|total_drug_cost|\n",
            "+----------+----------------------------+-------------------------+-------------------+--------------------+--------------------+--------------------+-----------------+---------------+\n",
            "|1003000126|                   ENKESHAFI|                  ARDALAN|         CUMBERLAND|                  MD|ATORVASTATIN CALCIUM|ATORVASTATIN CALCIUM|               13|         139.32|\n",
            "|1003000126|                   ENKESHAFI|                  ARDALAN|         CUMBERLAND|                  MD|   CIPROFLOXACIN HCL|   CIPROFLOXACIN HCL|               11|          80.99|\n",
            "|1003000126|                   ENKESHAFI|                  ARDALAN|         CUMBERLAND|                  MD| DOXYCYCLINE HYCLATE| DOXYCYCLINE HYCLATE|               20|         586.12|\n",
            "|1003000126|                   ENKESHAFI|                  ARDALAN|         CUMBERLAND|                  MD|             ELIQUIS|            APIXABAN|               17|        6065.02|\n",
            "|1003000126|                   ENKESHAFI|                  ARDALAN|         CUMBERLAND|                  MD|          FUROSEMIDE|          FUROSEMIDE|               17|          45.76|\n",
            "|1003000126|                   ENKESHAFI|                  ARDALAN|         CUMBERLAND|                  MD|     HYDRALAZINE HCL|     HYDRALAZINE HCL|               16|         169.48|\n",
            "|1003000126|                   ENKESHAFI|                  ARDALAN|         CUMBERLAND|                  MD|ISOSORBIDE MONONI...|ISOSORBIDE MONONI...|               33|         372.63|\n",
            "|1003000126|                   ENKESHAFI|                  ARDALAN|         CUMBERLAND|                  MD|        LEVOFLOXACIN|        LEVOFLOXACIN|               26|         222.41|\n",
            "|1003000126|                   ENKESHAFI|                  ARDALAN|         CUMBERLAND|                  MD|          LISINOPRIL|          LISINOPRIL|               31|         129.24|\n",
            "|1003000126|                   ENKESHAFI|                  ARDALAN|         CUMBERLAND|                  MD| METOPROLOL TARTRATE| METOPROLOL TARTRATE|               33|         183.29|\n",
            "|1003000126|                   ENKESHAFI|                  ARDALAN|         CUMBERLAND|                  MD|       METRONIDAZOLE|       METRONIDAZOLE|               12|         152.66|\n",
            "|1003000126|                   ENKESHAFI|                  ARDALAN|         CUMBERLAND|                  MD| PANTOPRAZOLE SODIUM| PANTOPRAZOLE SODIUM|               15|         140.83|\n",
            "|1003000126|                   ENKESHAFI|                  ARDALAN|         CUMBERLAND|                  MD|          PREDNISONE|          PREDNISONE|               20|          59.96|\n",
            "|1003000126|                   ENKESHAFI|                  ARDALAN|         CUMBERLAND|                  MD|     WARFARIN SODIUM|     WARFARIN SODIUM|               12|         197.69|\n",
            "|1003000126|                   ENKESHAFI|                  ARDALAN|         CUMBERLAND|                  MD|             XARELTO|         RIVAROXABAN|               34|        12110.2|\n",
            "|1003000142|                      KHALIL|                   RASHID|             TOLEDO|                  OH|ACETAMINOPHEN-COD...|ACETAMINOPHEN WIT...|               51|         577.96|\n",
            "|1003000142|                      KHALIL|                   RASHID|             TOLEDO|                  OH|   AMITRIPTYLINE HCL|   AMITRIPTYLINE HCL|               29|          254.2|\n",
            "|1003000142|                      KHALIL|                   RASHID|             TOLEDO|                  OH|            BACLOFEN|            BACLOFEN|              104|        2106.97|\n",
            "|1003000142|                      KHALIL|                   RASHID|             TOLEDO|                  OH|             BUTRANS|       BUPRENORPHINE|               63|       24514.23|\n",
            "|1003000142|                      KHALIL|                   RASHID|             TOLEDO|                  OH| CYCLOBENZAPRINE HCL| CYCLOBENZAPRINE HCL|               11|          31.88|\n",
            "+----------+----------------------------+-------------------------+-------------------+--------------------+--------------------+--------------------+-----------------+---------------+\n",
            "only showing top 20 rows\n",
            "\n"
          ],
          "name": "stdout"
        }
      ]
    },
    {
      "cell_type": "code",
      "metadata": {
        "id": "5NulhioZni9E",
        "colab_type": "code",
        "outputId": "836064ff-c9b4-498f-d9b6-d7517f7fa6a5",
        "colab": {
          "base_uri": "https://localhost:8080/",
          "height": 459
        }
      },
      "source": [
        "#rename columns for easy reading\n",
        "drugProviderSmall = drugProviderSmall.withColumnRenamed(\"npi\", \"NPI\").withColumnRenamed(\"nppes_provider_last_org_name\",\"Provider Last Name\").withColumnRenamed(\"nppes_provider_first_name\",\"Provider First Name\").withColumnRenamed(\"nppes_provider_city\",\"Provider City\").withColumnRenamed(\"nppes_provider_state\",\"Provider State\").withColumnRenamed(\"drug_name\",\"Drug Name\").withColumnRenamed(\"generic_name\",\"Generic Name\").withColumnRenamed(\"total_claim_count\",\"Total Claim Count\").withColumnRenamed(\"total_drug_cost\",\"Total Drug Cost\")"
      ],
      "execution_count": 0,
      "outputs": [
        {
          "output_type": "stream",
          "text": [
            "+----------+------------------+-------------------+------------+--------------+--------------------+--------------------+-----------------+---------------+\n",
            "|       NPI|Provider Last Name|Provider First Name|ProviderCity|Provider State|           Drug Name|        Generic Name|Total Claim Count|Total Drug Cost|\n",
            "+----------+------------------+-------------------+------------+--------------+--------------------+--------------------+-----------------+---------------+\n",
            "|1003000126|         ENKESHAFI|            ARDALAN|  CUMBERLAND|            MD|ATORVASTATIN CALCIUM|ATORVASTATIN CALCIUM|               13|         139.32|\n",
            "|1003000126|         ENKESHAFI|            ARDALAN|  CUMBERLAND|            MD|   CIPROFLOXACIN HCL|   CIPROFLOXACIN HCL|               11|          80.99|\n",
            "|1003000126|         ENKESHAFI|            ARDALAN|  CUMBERLAND|            MD| DOXYCYCLINE HYCLATE| DOXYCYCLINE HYCLATE|               20|         586.12|\n",
            "|1003000126|         ENKESHAFI|            ARDALAN|  CUMBERLAND|            MD|             ELIQUIS|            APIXABAN|               17|        6065.02|\n",
            "|1003000126|         ENKESHAFI|            ARDALAN|  CUMBERLAND|            MD|          FUROSEMIDE|          FUROSEMIDE|               17|          45.76|\n",
            "|1003000126|         ENKESHAFI|            ARDALAN|  CUMBERLAND|            MD|     HYDRALAZINE HCL|     HYDRALAZINE HCL|               16|         169.48|\n",
            "|1003000126|         ENKESHAFI|            ARDALAN|  CUMBERLAND|            MD|ISOSORBIDE MONONI...|ISOSORBIDE MONONI...|               33|         372.63|\n",
            "|1003000126|         ENKESHAFI|            ARDALAN|  CUMBERLAND|            MD|        LEVOFLOXACIN|        LEVOFLOXACIN|               26|         222.41|\n",
            "|1003000126|         ENKESHAFI|            ARDALAN|  CUMBERLAND|            MD|          LISINOPRIL|          LISINOPRIL|               31|         129.24|\n",
            "|1003000126|         ENKESHAFI|            ARDALAN|  CUMBERLAND|            MD| METOPROLOL TARTRATE| METOPROLOL TARTRATE|               33|         183.29|\n",
            "|1003000126|         ENKESHAFI|            ARDALAN|  CUMBERLAND|            MD|       METRONIDAZOLE|       METRONIDAZOLE|               12|         152.66|\n",
            "|1003000126|         ENKESHAFI|            ARDALAN|  CUMBERLAND|            MD| PANTOPRAZOLE SODIUM| PANTOPRAZOLE SODIUM|               15|         140.83|\n",
            "|1003000126|         ENKESHAFI|            ARDALAN|  CUMBERLAND|            MD|          PREDNISONE|          PREDNISONE|               20|          59.96|\n",
            "|1003000126|         ENKESHAFI|            ARDALAN|  CUMBERLAND|            MD|     WARFARIN SODIUM|     WARFARIN SODIUM|               12|         197.69|\n",
            "|1003000126|         ENKESHAFI|            ARDALAN|  CUMBERLAND|            MD|             XARELTO|         RIVAROXABAN|               34|        12110.2|\n",
            "|1003000142|            KHALIL|             RASHID|      TOLEDO|            OH|ACETAMINOPHEN-COD...|ACETAMINOPHEN WIT...|               51|         577.96|\n",
            "|1003000142|            KHALIL|             RASHID|      TOLEDO|            OH|   AMITRIPTYLINE HCL|   AMITRIPTYLINE HCL|               29|          254.2|\n",
            "|1003000142|            KHALIL|             RASHID|      TOLEDO|            OH|            BACLOFEN|            BACLOFEN|              104|        2106.97|\n",
            "|1003000142|            KHALIL|             RASHID|      TOLEDO|            OH|             BUTRANS|       BUPRENORPHINE|               63|       24514.23|\n",
            "|1003000142|            KHALIL|             RASHID|      TOLEDO|            OH| CYCLOBENZAPRINE HCL| CYCLOBENZAPRINE HCL|               11|          31.88|\n",
            "+----------+------------------+-------------------+------------+--------------+--------------------+--------------------+-----------------+---------------+\n",
            "only showing top 20 rows\n",
            "\n"
          ],
          "name": "stdout"
        }
      ]
    },
    {
      "cell_type": "code",
      "metadata": {
        "id": "OelAo0Z3J_G6",
        "colab_type": "code",
        "colab": {}
      },
      "source": [
        "#select only the columns we want and drop all duplicates\n",
        "drugProviderSmallnoDup = drugProviderSmallnoDup.select(\"NPI\",\"Provider Last Name\",\"Provider First Name\",\"Provider City\",\"Provider State\")\n",
        "drugProviderSmallnoDup = drugProviderSmallnoDup.dropDuplicates()\n",
        "drugProviderSmallnoDup.show()"
      ],
      "execution_count": 0,
      "outputs": []
    },
    {
      "cell_type": "code",
      "metadata": {
        "id": "fFRLnCxTKBR_",
        "colab_type": "code",
        "colab": {}
      },
      "source": [
        "#get the sum of the total claim count and drug cost\n",
        "drugProviderSmallagg = drugProviderSmall.groupby(\"NPI\").sum()\n",
        "drugProviderSmallagg.show()"
      ],
      "execution_count": 0,
      "outputs": []
    },
    {
      "cell_type": "code",
      "metadata": {
        "id": "FojZuqylKEYG",
        "colab_type": "code",
        "colab": {}
      },
      "source": [
        "#get only the columns that we want\n",
        "drugProviderSmallagg = drugProviderSmallagg.select(\"NPI\",\"sum(Total Claim Count)\",\"sum(Total Drug Cost)\")\n",
        "drugProviderSmallagg.show()\n"
      ],
      "execution_count": 0,
      "outputs": []
    },
    {
      "cell_type": "code",
      "metadata": {
        "id": "MSSyFyZ3KHXP",
        "colab_type": "code",
        "colab": {}
      },
      "source": [
        "#join the table back on NPI -  it should be alot smaller!\n",
        "Providerjoined = drugProviderSmallagg.join(drugProviderSmallnoDup, on = [\"NPI\"])\n",
        "Providerjoined.show()"
      ],
      "execution_count": 0,
      "outputs": []
    },
    {
      "cell_type": "code",
      "metadata": {
        "id": "Kmq4AItvVTcH",
        "colab_type": "code",
        "colab": {}
      },
      "source": [
        "#dependency to save CSVs after cleaned\n",
        "from google.colab import files\n",
        "#save as a csv so we never have to do this again!\n",
        "Providerjoined.toPandas().to_csv(\"PrescriberDrugs.csv\")\n",
        "#future reference: to download, go to the left, folder icon, and right click to download onto desktop then can import into database\n"
      ],
      "execution_count": 0,
      "outputs": []
    }
  ]
}