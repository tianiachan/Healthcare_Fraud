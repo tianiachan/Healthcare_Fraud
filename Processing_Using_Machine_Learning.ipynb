{
 "cells": [
  {
   "cell_type": "code",
   "execution_count": 2,
   "metadata": {},
   "outputs": [],
   "source": [
    "#dependencies\n",
    "%matplotlib inline\n",
    "import matplotlib.pyplot as plt\n",
    "import pandas as pd\n",
    "import os"
   ]
  },
  {
   "cell_type": "code",
   "execution_count": null,
   "metadata": {},
   "outputs": [],
   "source": [
    "#read in csvs in order to begin ML\n",
    "exclusionList = pd.read_csv(os.path.join( 'Resources', 'exclusionlist.csv'))\n",
    "# exclusionList.head()\n",
    "opiodNames = pd.read_csv(os.path.join( 'Resources', 'opiodNames.csv'))\n",
    "# opiodNames.head()\n",
    "physicianInfo = pd.read_csv(os.path.join( 'Resources', 'physicianInfo.csv'))\n",
    "# physicianInfo.head()\n",
    "prescriberDrugs = pd.read_csv(os.path.join( 'Resources', 'PrescriberDrugs.csv'))\n",
    "# prescriberDrugs.head()"
   ]
  },
  {
   "cell_type": "code",
   "execution_count": null,
   "metadata": {
    "scrolled": false
   },
   "outputs": [],
   "source": [
    "# Providerjoined = drugProviderSmallagg.join(drugProviderSmallnoDup, on = [\"NPI\"])\n",
    "physicianInfo.count()"
   ]
  },
  {
   "cell_type": "code",
   "execution_count": null,
   "metadata": {
    "scrolled": true
   },
   "outputs": [],
   "source": [
    "#join tables\n",
    "drugColumns = prescriberDrugs.columns\n",
    "physiciancolunns = physicianInfo.columns\n",
    "exclusioncolumns = exclusionList.columns\n",
    "print(\"Drug:\") \n",
    "print(drugColumns)\n",
    "print(\"Physician\")\n",
    "print(physiciancolunns)\n",
    "print(\"Exclusion\")\n",
    "print(exclusioncolumns)"
   ]
  },
  {
   "cell_type": "code",
   "execution_count": null,
   "metadata": {},
   "outputs": [],
   "source": [
    "# exclusionList.dropna(\"Last Name\"\n",
    "# exclusionList[(exclusionList[\"Last Name\"].notnull() & exclusionList[\"First Name\"].notnull() ) | (exclusionList[\"NPI\"] != 0)]"
   ]
  },
  {
   "cell_type": "code",
   "execution_count": null,
   "metadata": {},
   "outputs": [],
   "source": [
    "exclusion_list_with_names = df\n",
    "exclusion_list_with_names['outcome1'] = 1\n",
    "exclusion_list_with_npis['outcome2'] = 1\n",
    "\n"
   ]
  },
  {
   "cell_type": "code",
   "execution_count": null,
   "metadata": {
    "scrolled": true
   },
   "outputs": [],
   "source": [
    "#join drug and exclusion on NPI\n",
    "drugandExclusion = prescriberDrugs.merge(exclusionList, on = [\"NPI\"])\n",
    "dropColumns = [\"Unnamed: 0_x\", \"Unnamed: 0_y\", \"Provider Last Name\", \"Provider First Name\",\"Provider City\",\"Provider State\"]\n",
    "# drugandExclusion.drop(drugandExclusion[1],axis=1)\n",
    "drugandExclusion.drop(dropColumns, axis = 1, inplace = True)\n",
    "drugandExclusion"
   ]
  },
  {
   "cell_type": "code",
   "execution_count": null,
   "metadata": {},
   "outputs": [],
   "source": [
    "#make final table with physician info\n",
    "physicianInfo = physicianInfo.rename(columns = {\"physician_first_name\":\"First Name\", \"physician_last_name\":\"Last Name\"})\n",
    "physicianInfo"
   ]
  },
  {
   "cell_type": "code",
   "execution_count": null,
   "metadata": {},
   "outputs": [],
   "source": [
    "#merge to get the final table drugandExclusion = prescriberDrugs.merge(exclusionList, on = [\"NPI\"])\n",
    "finalTableForML = physicianInfo.merge(drugandExclusion, on = [\"Last Name\", \"First Name\"], how = \"left\")\n",
    "finalTableForML.drop(\"Unnamed: 0\",axis = 1, inplace = True)\n",
    "finalTableForML.shape"
   ]
  },
  {
   "cell_type": "code",
   "execution_count": null,
   "metadata": {},
   "outputs": [],
   "source": [
    "finalTableForML"
   ]
  },
  {
   "cell_type": "code",
   "execution_count": 3,
   "metadata": {},
   "outputs": [],
   "source": [
    "#connect to database for actual queries\n",
    "#dependency\n",
    "from sqlalchemy import create_engine\n",
    "\n",
    "#set up post gress string\n",
    "database_path = \"healthcare-fraud-db.cakair5uyevn.us-east-1.rds.amazonaws.com\"\n",
    "# jdbc_url=\"jdbc:postgresql://healthcare-fraud-db.cakair5uyevn.us-east-1.rds.amazonaws.com:5432/healthcare-fraud-db\"\n",
    "# config = {\"user\":\"root\", \n",
    "#           \"password\": \"rootroot\", \n",
    "#           \"driver\":\"org.postgresql.Driver\"}\n",
    "port = '5432'\n",
    "user = 'root'\n",
    "password = 'rootroot'\n",
    "database_name = 'healthcare-fraud-db'\n",
    "#read table from postgres\n",
    "# final_table = final_table.read.jdbc(url=jdbc_url, table='final_table', mode=mode, properties=config)\n",
    "# final_table.head()\n",
    "\n",
    "#postgres string\n",
    "pgString = ('postgresql://{user}:{password}@{ipaddress}:{port}/{dbname}'.\\\n",
    "           format(user = user,\\\n",
    "                 password = password,\\\n",
    "                 ipaddress = database_path,\\\n",
    "                 port = port,\\\n",
    "                 dbname = database_name))\n",
    "\n",
    "engine = create_engine(pgString)"
   ]
  },
  {
   "cell_type": "code",
   "execution_count": 4,
   "metadata": {},
   "outputs": [
    {
     "data": {
      "text/html": [
       "<div>\n",
       "<style scoped>\n",
       "    .dataframe tbody tr th:only-of-type {\n",
       "        vertical-align: middle;\n",
       "    }\n",
       "\n",
       "    .dataframe tbody tr th {\n",
       "        vertical-align: top;\n",
       "    }\n",
       "\n",
       "    .dataframe thead th {\n",
       "        text-align: right;\n",
       "    }\n",
       "</style>\n",
       "<table border=\"1\" class=\"dataframe\">\n",
       "  <thead>\n",
       "    <tr style=\"text-align: right;\">\n",
       "      <th></th>\n",
       "      <th>npi</th>\n",
       "      <th>is_fraud</th>\n",
       "      <th>total_claims</th>\n",
       "      <th>total_drug_cost</th>\n",
       "      <th>provider_last_name</th>\n",
       "      <th>provider_first_name</th>\n",
       "      <th>provider_city</th>\n",
       "      <th>provider_state</th>\n",
       "      <th>total_payment</th>\n",
       "    </tr>\n",
       "  </thead>\n",
       "  <tbody>\n",
       "    <tr>\n",
       "      <td>0</td>\n",
       "      <td>1730115106</td>\n",
       "      <td>0</td>\n",
       "      <td>61</td>\n",
       "      <td>1629.38</td>\n",
       "      <td>GAJJAR</td>\n",
       "      <td>AAKASH</td>\n",
       "      <td>GALVESTON</td>\n",
       "      <td>TX</td>\n",
       "      <td>101.34</td>\n",
       "    </tr>\n",
       "    <tr>\n",
       "      <td>1</td>\n",
       "      <td>1508975772</td>\n",
       "      <td>0</td>\n",
       "      <td>655</td>\n",
       "      <td>67327.96</td>\n",
       "      <td>ABBAS</td>\n",
       "      <td>AAMER</td>\n",
       "      <td>EL PASO</td>\n",
       "      <td>TX</td>\n",
       "      <td>196.21</td>\n",
       "    </tr>\n",
       "    <tr>\n",
       "      <td>2</td>\n",
       "      <td>1134439581</td>\n",
       "      <td>0</td>\n",
       "      <td>29888</td>\n",
       "      <td>1902530.64</td>\n",
       "      <td>CLARK</td>\n",
       "      <td>AARON</td>\n",
       "      <td>STATESBORO</td>\n",
       "      <td>GA</td>\n",
       "      <td>1028.72</td>\n",
       "    </tr>\n",
       "    <tr>\n",
       "      <td>3</td>\n",
       "      <td>1831310770</td>\n",
       "      <td>0</td>\n",
       "      <td>9968</td>\n",
       "      <td>544819.16</td>\n",
       "      <td>HANSHAW</td>\n",
       "      <td>AARON</td>\n",
       "      <td>DAYTON</td>\n",
       "      <td>OH</td>\n",
       "      <td>65.96</td>\n",
       "    </tr>\n",
       "    <tr>\n",
       "      <td>4</td>\n",
       "      <td>1306072038</td>\n",
       "      <td>0</td>\n",
       "      <td>67</td>\n",
       "      <td>298.71</td>\n",
       "      <td>INSEL</td>\n",
       "      <td>AARON</td>\n",
       "      <td>FARMINGTON</td>\n",
       "      <td>CT</td>\n",
       "      <td>2280.76</td>\n",
       "    </tr>\n",
       "  </tbody>\n",
       "</table>\n",
       "</div>"
      ],
      "text/plain": [
       "          npi  is_fraud  total_claims  total_drug_cost provider_last_name  \\\n",
       "0  1730115106         0            61          1629.38             GAJJAR   \n",
       "1  1508975772         0           655         67327.96              ABBAS   \n",
       "2  1134439581         0         29888       1902530.64              CLARK   \n",
       "3  1831310770         0          9968        544819.16            HANSHAW   \n",
       "4  1306072038         0            67           298.71              INSEL   \n",
       "\n",
       "  provider_first_name provider_city provider_state  total_payment  \n",
       "0              AAKASH     GALVESTON             TX         101.34  \n",
       "1               AAMER       EL PASO             TX         196.21  \n",
       "2               AARON    STATESBORO             GA        1028.72  \n",
       "3               AARON        DAYTON             OH          65.96  \n",
       "4               AARON    FARMINGTON             CT        2280.76  "
      ]
     },
     "execution_count": 4,
     "metadata": {},
     "output_type": "execute_result"
    }
   ],
   "source": [
    "#lets make sure this worked\n",
    "data =  engine.execute(\"SELECT * FROM final_table\")\n",
    "#convert data into a data frame to be able to call and do machine learning\n",
    "df = pd.read_sql(\"SELECT * FROM final_table\", engine)\n",
    "df.head()"
   ]
  },
  {
   "cell_type": "code",
   "execution_count": 5,
   "metadata": {},
   "outputs": [],
   "source": [
    "#write data frame to csv for easy access to make visuals\n",
    "df.to_csv(\"Resources/finalTable.csv\")"
   ]
  },
  {
   "cell_type": "code",
   "execution_count": 7,
   "metadata": {},
   "outputs": [
    {
     "data": {
      "text/plain": [
       "npi                    19551\n",
       "is_fraud               19551\n",
       "total_claims           19551\n",
       "total_drug_cost        19551\n",
       "provider_last_name     19551\n",
       "provider_first_name    19551\n",
       "provider_city          19551\n",
       "provider_state         19551\n",
       "total_payment          19551\n",
       "dtype: int64"
      ]
     },
     "execution_count": 7,
     "metadata": {},
     "output_type": "execute_result"
    }
   ],
   "source": [
    "df. count()"
   ]
  },
  {
   "cell_type": "code",
   "execution_count": null,
   "metadata": {},
   "outputs": [],
   "source": []
  }
 ],
 "metadata": {
  "kernelspec": {
   "display_name": "Python 3",
   "language": "python",
   "name": "python3"
  },
  "language_info": {
   "codemirror_mode": {
    "name": "ipython",
    "version": 3
   },
   "file_extension": ".py",
   "mimetype": "text/x-python",
   "name": "python",
   "nbconvert_exporter": "python",
   "pygments_lexer": "ipython3",
   "version": "3.7.4"
  }
 },
 "nbformat": 4,
 "nbformat_minor": 2
}
