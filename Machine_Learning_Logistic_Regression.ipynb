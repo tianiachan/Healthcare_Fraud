{
 "cells": [
  {
   "cell_type": "code",
   "execution_count": 74,
   "metadata": {},
   "outputs": [],
   "source": [
    "#dependencies\n",
    "%matplotlib inline\n",
    "import matplotlib.pyplot as plt\n",
    "import pandas as pd\n",
    "import os\n",
    "import numpy as np"
   ]
  },
  {
   "cell_type": "code",
   "execution_count": 75,
   "metadata": {},
   "outputs": [],
   "source": [
    "#connect to database for actual queries using SQLalchemy\n",
    "#dependency\n",
    "from sqlalchemy import create_engine\n",
    "\n",
    "#set up post gress string\n",
    "database_path = \"healthcare-fraud-db.cakair5uyevn.us-east-1.rds.amazonaws.com\"\n",
    "port = '5432'\n",
    "user = 'root'\n",
    "password = 'rootroot'\n",
    "database_name = 'healthcare-fraud-db'\n",
    "\n",
    "#postgres string\n",
    "pgString = ('postgresql://{user}:{password}@{ipaddress}:{port}/{dbname}'.\\\n",
    "           format(user = user,\\\n",
    "                 password = password,\\\n",
    "                 ipaddress = database_path,\\\n",
    "                 port = port,\\\n",
    "                 dbname = database_name))\n",
    "\n",
    "#create engine for connection\n",
    "engine = create_engine(pgString)"
   ]
  },
  {
   "cell_type": "code",
   "execution_count": 76,
   "metadata": {},
   "outputs": [
    {
     "data": {
      "text/html": [
       "<div>\n",
       "<style scoped>\n",
       "    .dataframe tbody tr th:only-of-type {\n",
       "        vertical-align: middle;\n",
       "    }\n",
       "\n",
       "    .dataframe tbody tr th {\n",
       "        vertical-align: top;\n",
       "    }\n",
       "\n",
       "    .dataframe thead th {\n",
       "        text-align: right;\n",
       "    }\n",
       "</style>\n",
       "<table border=\"1\" class=\"dataframe\">\n",
       "  <thead>\n",
       "    <tr style=\"text-align: right;\">\n",
       "      <th></th>\n",
       "      <th>npi</th>\n",
       "      <th>is_fraud</th>\n",
       "      <th>total_claims</th>\n",
       "      <th>total_drug_cost</th>\n",
       "      <th>provider_last_name</th>\n",
       "      <th>provider_first_name</th>\n",
       "      <th>provider_city</th>\n",
       "      <th>provider_state</th>\n",
       "      <th>total_payment</th>\n",
       "    </tr>\n",
       "  </thead>\n",
       "  <tbody>\n",
       "    <tr>\n",
       "      <td>0</td>\n",
       "      <td>1730115106</td>\n",
       "      <td>0</td>\n",
       "      <td>61</td>\n",
       "      <td>1629.38</td>\n",
       "      <td>GAJJAR</td>\n",
       "      <td>AAKASH</td>\n",
       "      <td>GALVESTON</td>\n",
       "      <td>TX</td>\n",
       "      <td>101.34</td>\n",
       "    </tr>\n",
       "    <tr>\n",
       "      <td>1</td>\n",
       "      <td>1508975772</td>\n",
       "      <td>0</td>\n",
       "      <td>655</td>\n",
       "      <td>67327.96</td>\n",
       "      <td>ABBAS</td>\n",
       "      <td>AAMER</td>\n",
       "      <td>EL PASO</td>\n",
       "      <td>TX</td>\n",
       "      <td>196.21</td>\n",
       "    </tr>\n",
       "    <tr>\n",
       "      <td>2</td>\n",
       "      <td>1134439581</td>\n",
       "      <td>0</td>\n",
       "      <td>29888</td>\n",
       "      <td>1902530.64</td>\n",
       "      <td>CLARK</td>\n",
       "      <td>AARON</td>\n",
       "      <td>STATESBORO</td>\n",
       "      <td>GA</td>\n",
       "      <td>1028.72</td>\n",
       "    </tr>\n",
       "    <tr>\n",
       "      <td>3</td>\n",
       "      <td>1831310770</td>\n",
       "      <td>0</td>\n",
       "      <td>9968</td>\n",
       "      <td>544819.16</td>\n",
       "      <td>HANSHAW</td>\n",
       "      <td>AARON</td>\n",
       "      <td>DAYTON</td>\n",
       "      <td>OH</td>\n",
       "      <td>65.96</td>\n",
       "    </tr>\n",
       "    <tr>\n",
       "      <td>4</td>\n",
       "      <td>1306072038</td>\n",
       "      <td>0</td>\n",
       "      <td>67</td>\n",
       "      <td>298.71</td>\n",
       "      <td>INSEL</td>\n",
       "      <td>AARON</td>\n",
       "      <td>FARMINGTON</td>\n",
       "      <td>CT</td>\n",
       "      <td>2280.76</td>\n",
       "    </tr>\n",
       "  </tbody>\n",
       "</table>\n",
       "</div>"
      ],
      "text/plain": [
       "          npi  is_fraud  total_claims  total_drug_cost provider_last_name  \\\n",
       "0  1730115106         0            61          1629.38             GAJJAR   \n",
       "1  1508975772         0           655         67327.96              ABBAS   \n",
       "2  1134439581         0         29888       1902530.64              CLARK   \n",
       "3  1831310770         0          9968        544819.16            HANSHAW   \n",
       "4  1306072038         0            67           298.71              INSEL   \n",
       "\n",
       "  provider_first_name provider_city provider_state  total_payment  \n",
       "0              AAKASH     GALVESTON             TX         101.34  \n",
       "1               AAMER       EL PASO             TX         196.21  \n",
       "2               AARON    STATESBORO             GA        1028.72  \n",
       "3               AARON        DAYTON             OH          65.96  \n",
       "4               AARON    FARMINGTON             CT        2280.76  "
      ]
     },
     "execution_count": 76,
     "metadata": {},
     "output_type": "execute_result"
    }
   ],
   "source": [
    "#lets make sure this worked\n",
    "data =  engine.execute(\"SELECT * FROM final_table\")\n",
    "#convert data into a data frame to be able to call and do machine learning\n",
    "df = pd.read_sql(\"SELECT * FROM final_table\", engine)\n",
    "df.head()"
   ]
  },
  {
   "cell_type": "code",
   "execution_count": null,
   "metadata": {},
   "outputs": [],
   "source": [
    "#write data frame to csv for easy access to make visuals\n",
    "df.to_csv(\"Resources/finalTable.csv\")"
   ]
  },
  {
   "cell_type": "code",
   "execution_count": 130,
   "metadata": {
    "scrolled": true
   },
   "outputs": [],
   "source": [
    "#dependencies for logistic regression (split, train, )\n",
    "from sklearn.model_selection import train_test_split\n",
    "from sklearn.linear_model import LogisticRegression\n",
    "from sklearn.metrics import classification_report\n",
    "from sklearn.metrics import confusion_matrix\n",
    "from sklearn.metrics import accuracy_score\n",
    "from sklearn.neighbors import KNeighborsClassifier\n",
    "from sklearn.svm import SVC\n",
    "\n",
    "#set X and y\n",
    "X = df.iloc[:,0]\n",
    "#change from series to array\n",
    "X = X.to_numpy()\n",
    "#reshape to fit regression model without changing data\n",
    "X = X.reshape(-1,1)\n",
    "y = df.iloc[:,1]\n",
    "y.nunique()\n",
    "\n",
    "#Step 1: split to train and test data\n",
    "X_train, X_test, y_train, y_test = train_test_split(X, y, test_size = 0.30, random_state=27)\n"
   ]
  },
  {
   "cell_type": "code",
   "execution_count": 131,
   "metadata": {},
   "outputs": [],
   "source": [
    "#create logistic regression model\n",
    "classifier = LogisticRegression()\n",
    "classifier\n",
    "#extra models\n",
    "# SVC_model = svm.SVC()\n",
    "KNN_Model = KNeighborsClassifier(n_neighbors = 5)"
   ]
  },
  {
   "cell_type": "code",
   "execution_count": 132,
   "metadata": {
    "scrolled": false
   },
   "outputs": [
    {
     "name": "stderr",
     "output_type": "stream",
     "text": [
      "C:\\Users\\tiania\\Anaconda3\\lib\\site-packages\\sklearn\\linear_model\\logistic.py:432: FutureWarning: Default solver will be changed to 'lbfgs' in 0.22. Specify a solver to silence this warning.\n",
      "  FutureWarning)\n"
     ]
    },
    {
     "data": {
      "text/plain": [
       "KNeighborsClassifier(algorithm='auto', leaf_size=30, metric='minkowski',\n",
       "                     metric_params=None, n_jobs=None, n_neighbors=5, p=2,\n",
       "                     weights='uniform')"
      ]
     },
     "execution_count": 132,
     "metadata": {},
     "output_type": "execute_result"
    }
   ],
   "source": [
    "#Step 2: fit/train using training data\n",
    "classifier.fit(X_train, y_train)\n",
    "# print(type(X_train))\n",
    "KNN_Model.fit(X_train, y_train)"
   ]
  },
  {
   "cell_type": "code",
   "execution_count": 133,
   "metadata": {
    "scrolled": false
   },
   "outputs": [
    {
     "name": "stdout",
     "output_type": "stream",
     "text": [
      "Training Data Score: 0.9860431128973328 KNN Train: 0.9860431128973328\n",
      "Testing Data Score: 0.9838049778383907 KNN Test: 0.9838049778383907\n"
     ]
    }
   ],
   "source": [
    "#Validate data using test data\n",
    "print(f\"Training Data Score: {classifier.score(X_train, y_train)} KNN Train: {KNN_Model.score(X_train, y_train)}\")\n",
    "print(f\"Testing Data Score: {classifier.score(X_test, y_test)} KNN Test: {KNN_Model.score(X_test, y_test)}\")"
   ]
  },
  {
   "cell_type": "code",
   "execution_count": 134,
   "metadata": {},
   "outputs": [
    {
     "name": "stdout",
     "output_type": "stream",
     "text": [
      "First 10 Predictions:   [0 0 0 0 0 0 0 0 0 0 0 0 0 0 0 0 0 0 0 0]\n",
      "First 10 Actual labels: [0, 0, 0, 0, 0, 0, 0, 0, 0, 0, 0, 0, 0, 0, 0, 0, 0, 0, 0, 0]\n"
     ]
    }
   ],
   "source": [
    "#Step 3: test\n",
    "#make predictions\n",
    "predictions = classifier.predict(X_test)\n",
    "KNN_prediction = KNN_Model.predict(X_test)\n",
    "print(f\"First 10 Predictions:   {predictions[:20]}\")\n",
    "print(f\"First 10 Actual labels: {y_test[:20].tolist()}\")"
   ]
  },
  {
   "cell_type": "code",
   "execution_count": 137,
   "metadata": {},
   "outputs": [
    {
     "data": {
      "text/plain": [
       "Prediction    1\n",
       "Actual        2\n",
       "dtype: int64"
      ]
     },
     "execution_count": 137,
     "metadata": {},
     "output_type": "execute_result"
    }
   ],
   "source": [
    "#show predictions\n",
    "predictionDF = pd.DataFrame({\"Prediction\": predictions, \"Actual\": y_test}).reset_index(drop=True)\n",
    "KNNpredictionDF = pd.DataFrame({\"Prediction\": KNN_prediction, \"Actual\": y_test}).reset_index(drop=True)\n",
    "predictionDF.nunique()"
   ]
  },
  {
   "cell_type": "code",
   "execution_count": null,
   "metadata": {},
   "outputs": [],
   "source": []
  }
 ],
 "metadata": {
  "kernelspec": {
   "display_name": "Python 3",
   "language": "python",
   "name": "python3"
  },
  "language_info": {
   "codemirror_mode": {
    "name": "ipython",
    "version": 3
   },
   "file_extension": ".py",
   "mimetype": "text/x-python",
   "name": "python",
   "nbconvert_exporter": "python",
   "pygments_lexer": "ipython3",
   "version": "3.7.4"
  }
 },
 "nbformat": 4,
 "nbformat_minor": 2
}
