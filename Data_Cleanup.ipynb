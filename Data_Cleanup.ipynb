{
  "nbformat": 4,
  "nbformat_minor": 0,
  "metadata": {
    "colab": {
      "name": "Data_Cleanup.ipynb",
      "provenance": [],
      "collapsed_sections": []
    },
    "kernelspec": {
      "name": "python3",
      "display_name": "Python 3"
    }
  },
  "cells": [
    {
      "cell_type": "code",
      "metadata": {
        "id": "bEswlOnnWWVC",
        "colab_type": "code",
        "colab": {}
      },
      "source": [
        "# Install Java, Spark, and Findspark\n",
        "!apt-get install openjdk-8-jdk-headless -qq > /dev/null\n",
        "!wget -q http://www-us.apache.org/dist/spark/spark-2.4.5/spark-2.4.5-bin-hadoop2.7.tgz\n",
        "!tar xf spark-2.4.5-bin-hadoop2.7.tgz\n",
        "!pip install -q findspark\n",
        "# Set Environment Variables\n",
        "import os\n",
        "os.environ[\"JAVA_HOME\"] = \"/usr/lib/jvm/java-8-openjdk-amd64\"\n",
        "os.environ[\"SPARK_HOME\"] = \"/content/spark-2.4.5-bin-hadoop2.7\"\n",
        "# Start a SparkSession\n",
        "import findspark\n",
        "findspark.init()"
      ],
      "execution_count": 0,
      "outputs": []
    },
    {
      "cell_type": "code",
      "metadata": {
        "id": "3sOkjd39Wyrp",
        "colab_type": "code",
        "colab": {}
      },
      "source": [
        "from pyspark.sql import SparkSession\n",
        "spark = SparkSession.builder.appName(\"healthcare_fraud\").getOrCreate()"
      ],
      "execution_count": 0,
      "outputs": []
    },
    {
      "cell_type": "code",
      "metadata": {
        "id": "_WOxtL6PXCGC",
        "colab_type": "code",
        "colab": {}
      },
      "source": [
        "from pyspark import SparkFiles\n",
        "# Load in user_data.csv from S3 into a DataFrame\n",
        "url = \"https://healthcare-fraud-project.s3.amazonaws.com/Opiod_drug_names.csv\"\n",
        "spark.sparkContext.addFile(url)\n",
        "df = spark.read.option('header', 'true').csv(SparkFiles.get(\"Opiod_drug_names.csv\"), inferSchema=True, sep=',', timestampFormat=\"mm/dd/yy\")\n"
      ],
      "execution_count": 0,
      "outputs": []
    },
    {
      "cell_type": "code",
      "metadata": {
        "id": "DJFFRSvnYOJ8",
        "colab_type": "code",
        "outputId": "bbffa8ba-51c8-44c9-fbc0-b256f3d8bcdd",
        "colab": {
          "base_uri": "https://localhost:8080/",
          "height": 34
        }
      },
      "source": [
        "df.count()\n"
      ],
      "execution_count": 0,
      "outputs": [
        {
          "output_type": "execute_result",
          "data": {
            "text/plain": [
              "93"
            ]
          },
          "metadata": {
            "tags": []
          },
          "execution_count": 5
        }
      ]
    },
    {
      "cell_type": "code",
      "metadata": {
        "id": "1G8UgjQwabsX",
        "colab_type": "code",
        "colab": {}
      },
      "source": [
        "from pyspark import SparkFiles\n",
        "# Load in user_data.csv from S3 into a DataFrame\n",
        "url = \"https://healthcare-fraud-project.s3.amazonaws.com/OP_DTL_GNRL_PGYR2016_P01172020.csv\"\n",
        "spark.sparkContext.addFile(url)\n",
        "df = spark.read.option('header', 'true').csv(SparkFiles.get(\"OP_DTL_GNRL_PGYR2016_P01172020.csv\"), inferSchema=True, sep=',', timestampFormat=\"mm/dd/yy\")"
      ],
      "execution_count": 0,
      "outputs": []
    },
    {
      "cell_type": "code",
      "metadata": {
        "id": "0ztTpkrlbrPr",
        "colab_type": "code",
        "colab": {}
      },
      "source": [
        "col_dropped = ['Teaching_Hospital_CCN','Teaching_Hospital_ID','Teaching_Hospital_Name','Physician_Middle_Name','Physician_Name_Suffix','Recipient_Province','Recipient_Postal_Code','Recipient_Country','Physician_License_State_code2','Physician_License_State_code3','Physician_License_State_code4','Physician_License_State_code5','Submitting_Applicable_Manufacturer_or_Applicable_GPO_Name','Applicable_Manufacturer_or_Applicable_GPO_Making_Payment_ID','Applicable_Manufacturer_or_Applicable_GPO_Making_Payment_Name','Applicable_Manufacturer_or_Applicable_GPO_Making_Payment_State','Applicable_Manufacturer_or_Applicable_GPO_Making_Payment_Country','Number_of_Payments_Included_in_Total_Amount','Date_of_Payment','Form_of_Payment_or_Transfer_of_Value','Nature_of_Payment_or_Transfer_of_Value','City_of_Travel','State_of_Travel','Country_of_Travel','Name_of_Third_Party_Entity_Receiving_Payment_or_Transfer_of_Value','Charity_Indicator','Third_Party_Equals_Covered_Recipient_Indicator','Contextual_Information','Associated_Drug_or_Biological_NDC_1','Associated_Drug_or_Biological_NDC_2','Covered_or_Noncovered_Indicator_3','Indicate_Drug_or_Biological_or_Device_or_Medical_Supply_3','Product_Category_or_Therapeutic_Area_3','Name_of_Drug_or_Biological_or_Device_or_Medical_Supply_3','Associated_Drug_or_Biological_NDC_3','Covered_or_Noncovered_Indicator_4','Indicate_Drug_or_Biological_or_Device_or_Medical_Supply_4','Product_Category_or_Therapeutic_Area_4','Name_of_Drug_or_Biological_or_Device_or_Medical_Supply_4','Associated_Drug_or_Biological_NDC_4','Covered_or_Noncovered_Indicator_5','Indicate_Drug_or_Biological_or_Device_or_Medical_Supply_5','Product_Category_or_Therapeutic_Area_5','Name_of_Drug_or_Biological_or_Device_or_Medical_Supply_5','Associated_Drug_or_Biological_NDC_5']\n",
        "df_smaller = df.select([column for column in df.columns if column not in col_dropped])"
      ],
      "execution_count": 0,
      "outputs": []
    },
    {
      "cell_type": "code",
      "metadata": {
        "id": "NXOGlnZ7nU_d",
        "colab_type": "code",
        "colab": {
          "base_uri": "https://localhost:8080/",
          "height": 302
        },
        "outputId": "3980078d-2da6-4a7b-cb5f-f478185c3ae6"
      },
      "source": [
        "df_smaller.drop(['Change_Type','Covered_Recipient_Type'])"
      ],
      "execution_count": 8,
      "outputs": [
        {
          "output_type": "error",
          "ename": "TypeError",
          "evalue": "ignored",
          "traceback": [
            "\u001b[0;31m---------------------------------------------------------------------------\u001b[0m",
            "\u001b[0;31mTypeError\u001b[0m                                 Traceback (most recent call last)",
            "\u001b[0;32m<ipython-input-8-f782c17496fe>\u001b[0m in \u001b[0;36m<module>\u001b[0;34m()\u001b[0m\n\u001b[0;32m----> 1\u001b[0;31m \u001b[0mdf_smaller\u001b[0m\u001b[0;34m.\u001b[0m\u001b[0mdrop\u001b[0m\u001b[0;34m(\u001b[0m\u001b[0;34m[\u001b[0m\u001b[0;34m'Change_Type'\u001b[0m\u001b[0;34m,\u001b[0m\u001b[0;34m'Covered_Recipient_Type'\u001b[0m\u001b[0;34m]\u001b[0m\u001b[0;34m)\u001b[0m\u001b[0;34m\u001b[0m\u001b[0;34m\u001b[0m\u001b[0m\n\u001b[0m",
            "\u001b[0;32m/content/spark-2.4.5-bin-hadoop2.7/python/pyspark/sql/dataframe.py\u001b[0m in \u001b[0;36mdrop\u001b[0;34m(self, *cols)\u001b[0m\n\u001b[1;32m   2042\u001b[0m                 \u001b[0mjdf\u001b[0m \u001b[0;34m=\u001b[0m \u001b[0mself\u001b[0m\u001b[0;34m.\u001b[0m\u001b[0m_jdf\u001b[0m\u001b[0;34m.\u001b[0m\u001b[0mdrop\u001b[0m\u001b[0;34m(\u001b[0m\u001b[0mcol\u001b[0m\u001b[0;34m.\u001b[0m\u001b[0m_jc\u001b[0m\u001b[0;34m)\u001b[0m\u001b[0;34m\u001b[0m\u001b[0;34m\u001b[0m\u001b[0m\n\u001b[1;32m   2043\u001b[0m             \u001b[0;32melse\u001b[0m\u001b[0;34m:\u001b[0m\u001b[0;34m\u001b[0m\u001b[0;34m\u001b[0m\u001b[0m\n\u001b[0;32m-> 2044\u001b[0;31m                 \u001b[0;32mraise\u001b[0m \u001b[0mTypeError\u001b[0m\u001b[0;34m(\u001b[0m\u001b[0;34m\"col should be a string or a Column\"\u001b[0m\u001b[0;34m)\u001b[0m\u001b[0;34m\u001b[0m\u001b[0;34m\u001b[0m\u001b[0m\n\u001b[0m\u001b[1;32m   2045\u001b[0m         \u001b[0;32melse\u001b[0m\u001b[0;34m:\u001b[0m\u001b[0;34m\u001b[0m\u001b[0;34m\u001b[0m\u001b[0m\n\u001b[1;32m   2046\u001b[0m             \u001b[0;32mfor\u001b[0m \u001b[0mcol\u001b[0m \u001b[0;32min\u001b[0m \u001b[0mcols\u001b[0m\u001b[0;34m:\u001b[0m\u001b[0;34m\u001b[0m\u001b[0;34m\u001b[0m\u001b[0m\n",
            "\u001b[0;31mTypeError\u001b[0m: col should be a string or a Column"
          ]
        }
      ]
    },
    {
      "cell_type": "code",
      "metadata": {
        "id": "YZx4hwyyimAp",
        "colab_type": "code",
        "colab": {}
      },
      "source": [
        "df_tiny = df_smaller.na.drop()"
      ],
      "execution_count": 0,
      "outputs": []
    },
    {
      "cell_type": "code",
      "metadata": {
        "id": "5eSbKqQWjT37",
        "colab_type": "code",
        "colab": {}
      },
      "source": [
        "df_tiny.show(10)"
      ],
      "execution_count": 0,
      "outputs": []
    },
    {
      "cell_type": "code",
      "metadata": {
        "id": "DzeHKJ8Tjz5G",
        "colab_type": "code",
        "outputId": "173351f9-aa93-478b-9d0d-c0debbba2c7d",
        "colab": {
          "base_uri": "https://localhost:8080/",
          "height": 34
        }
      },
      "source": [
        "#payment data\n",
        "df_tiny.count()\n"
      ],
      "execution_count": 0,
      "outputs": [
        {
          "output_type": "execute_result",
          "data": {
            "text/plain": [
              "921635"
            ]
          },
          "metadata": {
            "tags": []
          },
          "execution_count": 38
        }
      ]
    },
    {
      "cell_type": "code",
      "metadata": {
        "id": "pxIgVohNkgXp",
        "colab_type": "code",
        "colab": {}
      },
      "source": [
        "url = \"https://healthcare-fraud-project.s3.amazonaws.com/2004EXCL.csv\"\n",
        "spark.sparkContext.addFile(url)\n",
        "exclusionList = spark.read.option('header', 'true').csv(SparkFiles.get(\"2004EXCL.csv\"), inferSchema=True, sep=',', timestampFormat=\"mm/dd/yy\")"
      ],
      "execution_count": 0,
      "outputs": []
    },
    {
      "cell_type": "code",
      "metadata": {
        "id": "gW__3e8vl7Zt",
        "colab_type": "code",
        "outputId": "deb1ea22-1e2f-4ff0-dbd6-8167fd1ae153",
        "colab": {
          "base_uri": "https://localhost:8080/",
          "height": 479
        }
      },
      "source": [
        "#exclusion list\n",
        "exclusionList.show()\n",
        "exclusionList.count()"
      ],
      "execution_count": 0,
      "outputs": [
        {
          "output_type": "stream",
          "text": [
            "+---------+-----------+--------+--------------------+--------------------+--------------------+------+----------+--------+--------------------+---------------+-----+-----+--------+--------+--------+----------+--------+\n",
            "| LASTNAME|  FIRSTNAME| MIDNAME|             BUSNAME|             GENERAL|           SPECIALTY|  UPIN|       NPI|     DOB|             ADDRESS|           CITY|STATE|  ZIP|EXCLTYPE|EXCLDATE|REINDATE|WAIVERDATE|WVRSTATE|\n",
            "+---------+-----------+--------+--------------------+--------------------+--------------------+------+----------+--------+--------------------+---------------+-----+-----+--------+--------+--------+----------+--------+\n",
            "|     null|       null|        |     ANATOMY RX, LLC|      OTHER BUSINESS|            PHARMACY|  null|1356713226|    null|         1544 PURDUE|    LOS ANGELES|   CA|90025|  1128a4|20200520|       0|         0|    null|\n",
            "|     null|       null|        |CANARSIE A W A R ...|      OTHER BUSINESS|SUBSTANCE ABUSE REHA|  null|1497971741|    null|1285 ROCKAWAY AVENUE|       BROOKLYN|   NY|11236|  1128a1|20200520|       0|         0|    null|\n",
            "|     null|       null|        |DAY AND NIGHT BEH...|      OTHER BUSINESS|   COUNSELING CENTER|  null|1619426715|    null|2009 SUMMER LILY AVE|NORTH LAS VEGAS|   NV|89081|  1128a1|20200520|       0|         0|    null|\n",
            "|     null|       null|        |EDWARDO M YAMBO M...|PHYSICIAN PRACTICE (|    GENERAL PRACTICE|  null|1194829754|    null|60 EAST INDUSTRY ...|      DEER PARK|   NY|11729|  1128a1|20200520|       0|         0|    null|\n",
            "|     null|       null|        |LIFESTREAM HEALTH...|      OTHER BUSINESS|  HOME HEALTH AGENCY|  null|1679844161|    null|      10 AUDUBON WAY|     STURBRIDGE|   MA| 1566|  1128a1|20200520|       0|         0|    null|\n",
            "|   ABBASI|       MAAZ|  AHMED |                null|  PHYSICIAN (MD, DO)|   INTERNAL MEDICINE|  null|1679754725|19780801|   7107 SENTINEL FLS|  MISSOURI CITY|   TX|77459|  1128b7|20200422|       0|         0|    null|\n",
            "|    ADAME|    MATTHEW|        |                null|IND- LIC HC SERV PRO|   NURSE/NURSES AIDE|  null|         0|19711205|       1709 BAYOU DR|      ARLINGTON|   TX|76018|  1128b4|20200520|       0|         0|    null|\n",
            "|   ADKINS|    CRYSTAL|   DAWN |                null|IND- LIC HC SERV PRO|   NURSE/NURSES AIDE|  null|         0|19750219|   8649 LAKE ISLE DR|          TAMPA|   FL|33637|  1128b4|20200520|       0|         0|    null|\n",
            "|    AHMED|      DALIA|      R |                null|INDIVIDUAL (UNAFFILI|PERSONAL CARE PROVID|  null|         0|19911015|311 PENTONVILLE D...|    SAINT LOUIS|   MO|63125|  1128a1|20200520|       0|         0|    null|\n",
            "|    ANEKE|        JOY|      C |                null|      BUS OWNER/EXEC|              CLINIC|  null|         0|19671001|P O BOX 2149, #87...|          BRYAN|   TX|77805|  1128a1|20200520|       0|         0|    null|\n",
            "|ARMSTRONG|CHRISTOPHER|WILLIAM |                null|IND- LIC HC SERV PRO| PHYSICIAN ASSISTANT|  null|1740349505|19740823|P O BOX 5000, #09...|        OAKDALE|   LA|71483|  1128a4|20200520|       0|         0|    null|\n",
            "|  ARONSON|       MARY|      E |                null|IND- LIC HC SERV PRO|          PHARMACIST|  null|1548351125|19631105|      2206 STUART ST|       LONGMONT|   CO|80501|  1128a4|20200520|       0|         0|    null|\n",
            "|    AYALA|       IRIS|NEREIDA |                null|  PHYSICIAN (MD, DO)|             GYN/OBS|  null|1609109834|19620331|21467 COUNTRY ROA...|       CLERMONT|   FL|34715|  1128a3|20200520|       0|         0|    null|\n",
            "|   BAILEY|     HOLLIS|        |                null|INDIVIDUAL (UNAFFILI|NO KNOWN AFFILIATION|  null|         0|19521028| 71581 HOPEWELL ROAD|      KIMBOLTON|   OH|43749|  1128a1|20200520|       0|         0|    null|\n",
            "|     BARR|        JOE|        |                null|EMPLOYEE - PRIVATE S| INTER CARE FACILITY|  null|         0|19520313|     268 HIGHWAY 314|         OXFORD|   MS|38655|  1128a2|20200520|       0|         0|    null|\n",
            "|   BASILE|     ANDREW|MICHAEL |                null|  PHYSICIAN (MD, DO)|  EMERGENCY MEDICINE|E18549|1346297348|19570607|     2346 SE 11TH ST|  POMPANO BEACH|   FL|33062|  1128b4|20200520|       0|         0|    null|\n",
            "| BAUMBLIT|      RIMMA|        |                null|EMPLOYEE - PRIVATE S|SUBSTANCE ABUSE REHA|  null|         0|19560608|    227 CORBIN PLACE|       BROOKLYN|   NY|11235|  1128a1|20200520|       0|         0|    null|\n",
            "| BAUMBLIT|       YURY|        |                null|      BUS OWNER/EXEC|SUBSTANCE ABUSE REHA|  null|         0|19500910| 1712A E 16TH STREET|       BROOKLYN|   NY|11229|  1128a1|20200520|       0|         0|    null|\n",
            "|     BECK|  STEPHANIE|      R |                null|IND- LIC HC SERV PRO|           COUNSELOR|  null|1457511487|19780306|12 MAPLEWOOD ROAD 12|       LEWISTON|   ME| 4240|  1128a4|20200520|       0|         0|    null|\n",
            "|BENS VEGA|    EDUARDO|ALFONSO |                null|EMPLOYEE - PRIVATE S|              CLINIC|  null|         0|19710803|555 GEO DRIVE, #1...|    PHILIPSBURG|   PA|16866|  1128a1|20200520|       0|         0|    null|\n",
            "+---------+-----------+--------+--------------------+--------------------+--------------------+------+----------+--------+--------------------+---------------+-----+-----+--------+--------+--------+----------+--------+\n",
            "only showing top 20 rows\n",
            "\n"
          ],
          "name": "stdout"
        }
      ]
    },
    {
      "cell_type": "code",
      "metadata": {
        "id": "o8z4toJPl83V",
        "colab_type": "code",
        "colab": {}
      },
      "source": [
        "url = \"https://healthcare-fraud-project.s3.amazonaws.com/Medicare_Provider_Utilization_and_Payment_Data__2016_Part_D_Prescriber.csv\"\n",
        "spark.sparkContext.addFile(url)\n",
        "drugProvider = spark.read.option('header', 'true').csv(SparkFiles.get(\"Medicare_Provider_Utilization_and_Payment_Data__2016_Part_D_Prescriber.csv\"), inferSchema=True, sep=',', timestampFormat=\"mm/dd/yy\")"
      ],
      "execution_count": 0,
      "outputs": []
    },
    {
      "cell_type": "code",
      "metadata": {
        "id": "AwhQQbWcmVdw",
        "colab_type": "code",
        "outputId": "980bd12a-6d66-4ae8-b4d6-657da7a9c838",
        "colab": {
          "base_uri": "https://localhost:8080/",
          "height": 479
        }
      },
      "source": [
        "#drug provider data frame\n",
        "drugProvider.show()\n",
        "drugProvider.count()"
      ],
      "execution_count": 0,
      "outputs": [
        {
          "output_type": "stream",
          "text": [
            "+----------+----------------------------+-------------------------+-------------------+--------------------+---------------------+----------------+--------------------+--------------------+----------+-----------------+-----------------------+----------------+---------------+---------------+-----------------------------+----------------------+------------------+----------------------------+---------------------+--------------------+\n",
            "|       npi|nppes_provider_last_org_name|nppes_provider_first_name|nppes_provider_city|nppes_provider_state|specialty_description|description_flag|           drug_name|        generic_name|bene_count|total_claim_count|total_30_day_fill_count|total_day_supply|total_drug_cost|bene_count_ge65|bene_count_ge65_suppress_flag|total_claim_count_ge65|ge65_suppress_flag|total_30_day_fill_count_ge65|total_day_supply_ge65|total_drug_cost_ge65|\n",
            "+----------+----------------------------+-------------------------+-------------------+--------------------+---------------------+----------------+--------------------+--------------------+----------+-----------------+-----------------------+----------------+---------------+---------------+-----------------------------+----------------------+------------------+----------------------------+---------------------+--------------------+\n",
            "|1003000126|                   ENKESHAFI|                  ARDALAN|         CUMBERLAND|                  MD|    Internal Medicine|               S|ATORVASTATIN CALCIUM|ATORVASTATIN CALCIUM|      null|               13|                   15.0|             450|         139.32|           null|                            *|                    13|              null|                        15.0|                  450|              139.32|\n",
            "|1003000126|                   ENKESHAFI|                  ARDALAN|         CUMBERLAND|                  MD|    Internal Medicine|               S|   CIPROFLOXACIN HCL|   CIPROFLOXACIN HCL|      null|               11|                   11.0|              96|          80.99|           null|                            *|                  null|                 *|                        null|                 null|                null|\n",
            "|1003000126|                   ENKESHAFI|                  ARDALAN|         CUMBERLAND|                  MD|    Internal Medicine|               S| DOXYCYCLINE HYCLATE| DOXYCYCLINE HYCLATE|        20|               20|                   20.0|             199|         586.12|           null|                            #|                  null|                 #|                        null|                 null|                null|\n",
            "|1003000126|                   ENKESHAFI|                  ARDALAN|         CUMBERLAND|                  MD|    Internal Medicine|               S|             ELIQUIS|            APIXABAN|      null|               17|                   17.0|             510|        6065.02|           null|                            *|                    17|              null|                        17.0|                  510|             6065.02|\n",
            "|1003000126|                   ENKESHAFI|                  ARDALAN|         CUMBERLAND|                  MD|    Internal Medicine|               S|          FUROSEMIDE|          FUROSEMIDE|        12|               17|                   17.0|             405|          45.76|           null|                            #|                  null|                 #|                        null|                 null|                null|\n",
            "|1003000126|                   ENKESHAFI|                  ARDALAN|         CUMBERLAND|                  MD|    Internal Medicine|               S|     HYDRALAZINE HCL|     HYDRALAZINE HCL|      null|               16|                   16.0|             420|         169.48|           null|                            #|                  null|                 #|                        null|                 null|                null|\n",
            "|1003000126|                   ENKESHAFI|                  ARDALAN|         CUMBERLAND|                  MD|    Internal Medicine|               S|ISOSORBIDE MONONI...|ISOSORBIDE MONONI...|        16|               33|                   35.0|            1005|         372.63|           null|                            #|                  null|                 #|                        null|                 null|                null|\n",
            "|1003000126|                   ENKESHAFI|                  ARDALAN|         CUMBERLAND|                  MD|    Internal Medicine|               S|        LEVOFLOXACIN|        LEVOFLOXACIN|        26|               26|                   26.0|             159|         222.41|           null|                            #|                  null|                 #|                        null|                 null|                null|\n",
            "|1003000126|                   ENKESHAFI|                  ARDALAN|         CUMBERLAND|                  MD|    Internal Medicine|               S|          LISINOPRIL|          LISINOPRIL|        14|               31|                   32.0|             960|         129.24|           null|                            #|                  null|                 #|                        null|                 null|                null|\n",
            "|1003000126|                   ENKESHAFI|                  ARDALAN|         CUMBERLAND|                  MD|    Internal Medicine|               S| METOPROLOL TARTRATE| METOPROLOL TARTRATE|        14|               33|                   37.0|            1050|         183.29|             14|                         null|                    33|              null|                        37.0|                 1050|              183.29|\n",
            "|1003000126|                   ENKESHAFI|                  ARDALAN|         CUMBERLAND|                  MD|    Internal Medicine|               S|       METRONIDAZOLE|       METRONIDAZOLE|        11|               12|                   12.0|             127|         152.66|             11|                         null|                    12|              null|                        12.0|                  127|              152.66|\n",
            "|1003000126|                   ENKESHAFI|                  ARDALAN|         CUMBERLAND|                  MD|    Internal Medicine|               S| PANTOPRAZOLE SODIUM| PANTOPRAZOLE SODIUM|      null|               15|                   15.0|             450|         140.83|           null|                            #|                  null|                 #|                        null|                 null|                null|\n",
            "|1003000126|                   ENKESHAFI|                  ARDALAN|         CUMBERLAND|                  MD|    Internal Medicine|               S|          PREDNISONE|          PREDNISONE|        17|               20|                   20.0|             121|          59.96|           null|                            #|                  null|                 #|                        null|                 null|                null|\n",
            "|1003000126|                   ENKESHAFI|                  ARDALAN|         CUMBERLAND|                  MD|    Internal Medicine|               S|     WARFARIN SODIUM|     WARFARIN SODIUM|      null|               12|                   12.0|             236|         197.69|           null|                            *|                    12|              null|                        12.0|                  236|              197.69|\n",
            "|1003000126|                   ENKESHAFI|                  ARDALAN|         CUMBERLAND|                  MD|    Internal Medicine|               S|             XARELTO|         RIVAROXABAN|        12|               34|                   34.0|             943|        12110.2|           null|                            #|                  null|                 #|                        null|                 null|                null|\n",
            "|1003000142|                      KHALIL|                   RASHID|             TOLEDO|                  OH|       Anesthesiology|               S|ACETAMINOPHEN-COD...|ACETAMINOPHEN WIT...|        17|               51|                   51.0|            1398|         577.96|           null|                            #|                    37|              null|                        37.0|                  978|              437.25|\n",
            "|1003000142|                      KHALIL|                   RASHID|             TOLEDO|                  OH|       Anesthesiology|               S|   AMITRIPTYLINE HCL|   AMITRIPTYLINE HCL|      null|               29|                   29.0|             870|          254.2|              0|                         null|                     0|              null|                         0.0|                    0|                 0.0|\n",
            "|1003000142|                      KHALIL|                   RASHID|             TOLEDO|                  OH|       Anesthesiology|               S|            BACLOFEN|            BACLOFEN|        43|              104|                  112.0|            3194|        2106.97|             17|                         null|                    31|              null|                        31.0|                  890|              484.56|\n",
            "|1003000142|                      KHALIL|                   RASHID|             TOLEDO|                  OH|       Anesthesiology|               S|             BUTRANS|       BUPRENORPHINE|        19|               63|                   63.0|            1764|       24514.23|           null|                            #|                    41|              null|                        41.0|                 1150|            16188.72|\n",
            "|1003000142|                      KHALIL|                   RASHID|             TOLEDO|                  OH|       Anesthesiology|               S| CYCLOBENZAPRINE HCL| CYCLOBENZAPRINE HCL|      null|               11|                   11.0|             300|          31.88|           null|                            *|                  null|                 *|                        null|                 null|                null|\n",
            "+----------+----------------------------+-------------------------+-------------------+--------------------+---------------------+----------------+--------------------+--------------------+----------+-----------------+-----------------------+----------------+---------------+---------------+-----------------------------+----------------------+------------------+----------------------------+---------------------+--------------------+\n",
            "only showing top 20 rows\n",
            "\n"
          ],
          "name": "stdout"
        }
      ]
    },
    {
      "cell_type": "code",
      "metadata": {
        "id": "5NulhioZni9E",
        "colab_type": "code",
        "colab": {}
      },
      "source": [
        ""
      ],
      "execution_count": 0,
      "outputs": []
    }
  ]
}